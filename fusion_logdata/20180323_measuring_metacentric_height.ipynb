{
 "cells": [
  {
   "cell_type": "markdown",
   "metadata": {},
   "source": [
    "<h1><center> Computing FUSION metacentric height </center> </h1> \n",
    "\n",
    "## Test Logbook\n",
    "\n",
    "* __12:23 -__ With no weight __Pitch = -1.6º__ (too positive)\n",
    "* __12:31 -__ With 266g of weight on the back *\"handle\"* __Pitch = 4.4º__ turned the vehicle neutral\n",
    "* __12:34 -__ With 266g + 540g of weight on the back *\"handle\"* and the equivelent of 540g of steel in foam at the front *\"first hole\"* __Pitch = 26.9º__\n",
    "* __12:43 -__ With 266g + 383g of weight on the back *\"handle\"* and the equivelent of 383g of steel in foam at the front *\"first hole\"* __Pitch = 20.7º__\n",
    "* __12:51 -__ With 266g + 216g of weight on the back *\"handle\"* and the equivelent of 216g of steel in foam at the front *\"first hole\"* __Pitch = 13.9º__\n",
    "\n",
    "## Constants \n",
    "* Distance between *\"first hole\"* and *\"handle\"* is 660mm (d)\n",
    "* Distance between *\"center of mass\"* and *\"first hole\"* is 220mm (d1)\n",
    "* Distance between *\"center of mass\"* and *\"handle\"* is 440mm (d2)\n",
    "* Steel density - 7850 kg per square meter\n",
    "\n",
    "<img src=\"./images/20180322_1200.jpg\" width=\"500px\">\n"
   ]
  },
  {
   "cell_type": "code",
   "execution_count": 1,
   "metadata": {},
   "outputs": [],
   "source": [
    "# constants\n",
    "d1 = 220/1000.0; \n",
    "d2 = 440/1000.0;\n",
    "ro_water = 1000.0;\n",
    "ro_steel = 7850.0;\n",
    "m_fusion = 28.0; # TODO: JESSE ESTIMATION it needs to be measured "
   ]
  },
  {
   "cell_type": "code",
   "execution_count": 2,
   "metadata": {},
   "outputs": [
    {
     "name": "stdout",
     "output_type": "stream",
     "text": [
      "m_const_water: 0.232kg\n",
      "m1_water: 0.471kg\n",
      "m2_water: 0.334kg\n",
      "m3_water: 0.188kg\n"
     ]
    }
   ],
   "source": [
    "def mass_in_water(m_air, ro_fluid, ro_obj ):\n",
    "    return m_air * (1.0 - ro_fluid/ro_obj )\n",
    "\n",
    "# water masses\n",
    "m_const = mass_in_water(0.266, ro_water, ro_steel)\n",
    "m1_water = mass_in_water(0.540, ro_water, ro_steel); # first experiment\n",
    "m2_water = mass_in_water(0.383, ro_water, ro_steel); # second experiment\n",
    "m3_water = mass_in_water(0.216, ro_water, ro_steel); # third experiment\n",
    "\n",
    "print('m_const_water: %.3fkg'%(m_const));\n",
    "print('m1_water: %.3fkg'%(m1_water));\n",
    "print('m2_water: %.3fkg'%(m2_water));\n",
    "print('m3_water: %.3fkg'%(m3_water));"
   ]
  },
  {
   "cell_type": "markdown",
   "metadata": {},
   "source": [
    "## Considering no weight on the back, just removing 4.4º pitch"
   ]
  },
  {
   "cell_type": "code",
   "execution_count": 3,
   "metadata": {},
   "outputs": [
    {
     "data": {
      "text/plain": [
       "<matplotlib.text.Text at 0x7fc0cd7b96d0>"
      ]
     },
     "execution_count": 3,
     "metadata": {},
     "output_type": "execute_result"
    },
    {
     "data": {
      "image/png": "[encoded data removed]",
      "text/plain": [
       "<matplotlib.figure.Figure at 0x7fc0f85ccf90>"
      ]
     },
     "metadata": {},
     "output_type": "display_data"
    }
   ],
   "source": [
    "import numpy as np\n",
    "import matplotlib.pyplot as plt\n",
    "%matplotlib inline\n",
    "\n",
    "# considering no weight on the back\n",
    "torques = np.array([(d1+d2)*m1_water, (d1+d2)*m2_water, (d1+d2)*m3_water])*10\n",
    "pitch = np.array([26.9, 20.7, 13.9]) - 4.4\n",
    "r_torque_wo_back = torques/np.sin(pitch*np.pi/180.0); # restoring torques\n",
    "\n",
    "plt.plot(torques, '-*', label='torque')\n",
    "plt.plot(r_torque_wo_back, '-*', label='restoring torque')\n",
    "plt.legend()\n",
    "plt.grid()\n",
    "plt.title('torque for different experiments')\n",
    "plt.ylabel('torque N.m')\n",
    "plt.xlabel('experiment no')"
   ]
  },
  {
   "cell_type": "markdown",
   "metadata": {},
   "source": [
    "## Considering weight on the back, removing 1.6deg pitch"
   ]
  },
  {
   "cell_type": "code",
   "execution_count": 4,
   "metadata": {},
   "outputs": [
    {
     "data": {
      "text/plain": [
       "<matplotlib.text.Text at 0x7fc0cb2de090>"
      ]
     },
     "execution_count": 4,
     "metadata": {},
     "output_type": "execute_result"
    },
    {
     "data": {
      "image/png": "[encoded data removed]",
      "text/plain": [
       "<matplotlib.figure.Figure at 0x7fc0f861de50>"
      ]
     },
     "metadata": {},
     "output_type": "display_data"
    }
   ],
   "source": [
    "# considering weight on the back\n",
    "torques = np.array([(d1+d2)*m1_water, (d1+d2)*m2_water, (d1+d2)*m3_water])*10.0 + d2*m_const*10.0 # N\n",
    "pitch = np.array([26.9, 20.7, 13.9])+1.6\n",
    "r_torque_w_back = torques/np.sin(pitch*np.pi/180.0); # restoring torques\n",
    "\n",
    "plt.plot(torques, '-*', label='torque')\n",
    "plt.plot(r_torque_w_back, '-*', label='restoring torque')\n",
    "plt.legend()\n",
    "plt.grid()\n",
    "plt.title('torque for different experiments')\n",
    "plt.ylabel('torque N.m')\n",
    "plt.xlabel('experiment no')"
   ]
  },
  {
   "cell_type": "markdown",
   "metadata": {},
   "source": [
    "# Conclusions"
   ]
  },
  {
   "cell_type": "code",
   "execution_count": 5,
   "metadata": {},
   "outputs": [
    {
     "name": "stdout",
     "output_type": "stream",
     "text": [
      "Not considering back weight and the resting -1.6deg pitch, mean 0.0280 std 0.0009 \n",
      "Considering back weight but not the resting -1.6deg pitch, mean 0.0305 std 0.0003 \n"
     ]
    }
   ],
   "source": [
    "from numpy import mean, std\n",
    "print(\"Not considering back weight and the resting -1.6deg pitch, mean %.4f std %.4f \"%(mean(r_torque_wo_back/(m_fusion*10.0)), std(r_torque_wo_back/(m_fusion*10.0)) ) )\n",
    "print(\"Considering back weight but not the resting -1.6deg pitch, mean %.4f std %.4f \"%(mean(r_torque_w_back/(m_fusion*10.0)), std(r_torque_w_back/(m_fusion*10.0)) ) )"
   ]
  },
  {
   "cell_type": "markdown",
   "metadata": {},
   "source": [
    "Checking the effect of the -1.6º on the computation"
   ]
  },
  {
   "cell_type": "code",
   "execution_count": 6,
   "metadata": {
    "scrolled": true
   },
   "outputs": [
    {
     "name": "stdout",
     "output_type": "stream",
     "text": [
      "-1.6deg pitch means 0.238N torque\n"
     ]
    }
   ],
   "source": [
    "# assuming 0.305 metacentric height\n",
    "print(\"-1.6deg pitch means %.3fN torque\"%(0.0305*m_fusion*10*np.sin(1.6*np.pi/180.0)))"
   ]
  },
  {
   "cell_type": "markdown",
   "metadata": {},
   "source": [
    "<h4 align=\"right\">2018/04/22 Jorge Pais Ribeiro</h4>"
   ]
  },
  {
   "cell_type": "code",
   "execution_count": 11,
   "metadata": {},
   "outputs": [
    {
     "name": "stdout",
     "output_type": "stream",
     "text": [
      "0.65261333117\n"
     ]
    }
   ],
   "source": [
    "weight=0.980-m_const;\n",
    "print(mass_in_water(weight, ro_water, ro_steel))"
   ]
  }
 ],
 "metadata": {
  "kernelspec": {
   "display_name": "Python 2",
   "language": "python",
   "name": "python2"
  },
  "language_info": {
   "codemirror_mode": {
    "name": "ipython",
    "version": 2
   },
   "file_extension": ".py",
   "mimetype": "text/x-python",
   "name": "python",
   "nbconvert_exporter": "python",
   "pygments_lexer": "ipython2",
   "version": "2.7.6"
  }
 },
 "nbformat": 4,
 "nbformat_minor": 2
}
